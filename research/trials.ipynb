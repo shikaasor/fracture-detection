{
 "cells": [
  {
   "cell_type": "code",
   "execution_count": 1,
   "metadata": {},
   "outputs": [],
   "source": [
    "import gdown\n",
    "import os\n",
    "import zipfile"
   ]
  },
  {
   "cell_type": "code",
   "execution_count": 2,
   "metadata": {},
   "outputs": [],
   "source": [
    "url = \"https://drive.google.com/file/d/149vtxI7-ZI7BfB-7ZpAfZeFM4UvNU04Y/view?usp=drive_link\""
   ]
  },
  {
   "cell_type": "code",
   "execution_count": 3,
   "metadata": {},
   "outputs": [
    {
     "data": {
      "text/plain": [
       "'149vtxI7-ZI7BfB-7ZpAfZeFM4UvNU04Y'"
      ]
     },
     "execution_count": 3,
     "metadata": {},
     "output_type": "execute_result"
    }
   ],
   "source": [
    "file_id = url.split(\"/\")[-2]\n",
    "file_id"
   ]
  },
  {
   "cell_type": "code",
   "execution_count": 3,
   "metadata": {},
   "outputs": [],
   "source": [
    "os.chdir(\"../\")"
   ]
  },
  {
   "cell_type": "code",
   "execution_count": null,
   "metadata": {},
   "outputs": [],
   "source": [
    "prefix = 'https://drive.google.com/uc?/export=download&id='\n",
    "gdown.download(prefix+file_id, \"data/fracture_images.zip\")"
   ]
  },
  {
   "cell_type": "code",
   "execution_count": 8,
   "metadata": {},
   "outputs": [
    {
     "name": "stderr",
     "output_type": "stream",
     "text": [
      "Cloning into 'yolov5'...\n"
     ]
    }
   ],
   "source": [
    "!git clone https://github.com/ultralytics/yolov5.git"
   ]
  },
  {
   "cell_type": "code",
   "execution_count": 7,
   "metadata": {},
   "outputs": [],
   "source": [
    "with zipfile.ZipFile('./data/fractures.zip', 'r') as zipref:\n",
    "    zipref.extractall('./data')"
   ]
  },
  {
   "cell_type": "code",
   "execution_count": 9,
   "metadata": {},
   "outputs": [
    {
     "data": {
      "text/plain": [
       "'7'"
      ]
     },
     "execution_count": 9,
     "metadata": {},
     "output_type": "execute_result"
    }
   ],
   "source": [
    "import yaml\n",
    "dataYAMLDir = './data/data.yaml'\n",
    "with open(dataYAMLDir, 'r') as stream:\n",
    "  num_classes = str(yaml.safe_load(stream)['nc'])\n",
    "\n",
    "num_classes"
   ]
  },
  {
   "cell_type": "code",
   "execution_count": 17,
   "metadata": {},
   "outputs": [
    {
     "name": "stdout",
     "output_type": "stream",
     "text": [
      "train: ./data/train/images\n",
      "val: ./data/valid/images\n",
      "test: ./data/test/images\n",
      "\n",
      "nc: 7\n",
      "names: ['elbow positive', 'fingers positive', 'forearm fracture', 'humerus fracture', 'humerus', 'shoulder fracture', 'wrist positive']\n"
     ]
    }
   ],
   "source": [
    "with open('./data/data.yaml', 'r') as file:\n",
    "    contents = file.read()\n",
    "    print(contents)"
   ]
  },
  {
   "cell_type": "code",
   "execution_count": 10,
   "metadata": {},
   "outputs": [],
   "source": [
    "from IPython.core.magic import register_line_cell_magic\n",
    "\n",
    "@register_line_cell_magic\n",
    "def writetemplate(line, cell):\n",
    "    with open(line, 'w') as f:\n",
    "        f.write(cell.format(**globals()))"
   ]
  },
  {
   "cell_type": "code",
   "execution_count": 11,
   "metadata": {},
   "outputs": [
    {
     "data": {
      "text/plain": [
       "'c:\\\\Users\\\\asort\\\\OneDrive\\\\Documents\\\\AsorBackup\\\\Learn\\\\fracture-detection'"
      ]
     },
     "execution_count": 11,
     "metadata": {},
     "output_type": "execute_result"
    }
   ],
   "source": [
    "%pwd"
   ]
  },
  {
   "cell_type": "code",
   "execution_count": 12,
   "metadata": {},
   "outputs": [],
   "source": [
    "%%writetemplate ./yolov5/models/custom_yolov5s.yaml\n",
    "\n",
    "nc: {num_classes} # number of classes\n",
    "depth_multiple: 0.33 # model depth multiple\n",
    "width_multiple: 0.50 # layer channel multiple\n",
    "anchors:\n",
    "  - [10, 13, 16, 30, 33, 23] # P3/8\n",
    "  - [30, 61, 62, 45, 59, 119] # P4/16\n",
    "  - [116, 90, 156, 198, 373, 326] # P5/32\n",
    "\n",
    "# YOLOv5 v6.0 backbone\n",
    "backbone:\n",
    "  # [from, number, module, args]\n",
    "  [\n",
    "    [-1, 1, Conv, [64, 6, 2, 2]], # 0-P1/2\n",
    "    [-1, 1, Conv, [128, 3, 2]], # 1-P2/4\n",
    "    [-1, 3, C3, [128]],\n",
    "    [-1, 1, Conv, [256, 3, 2]], # 3-P3/8\n",
    "    [-1, 6, C3, [256]],\n",
    "    [-1, 1, Conv, [512, 3, 2]], # 5-P4/16\n",
    "    [-1, 9, C3, [512]],\n",
    "    [-1, 1, Conv, [1024, 3, 2]], # 7-P5/32\n",
    "    [-1, 3, C3, [1024]],\n",
    "    [-1, 1, SPPF, [1024, 5]], # 9\n",
    "  ]\n",
    "\n",
    "# YOLOv5 v6.0 head\n",
    "head: [\n",
    "    [-1, 1, Conv, [512, 1, 1]],\n",
    "    [-1, 1, nn.Upsample, [None, 2, \"nearest\"]],\n",
    "    [[-1, 6], 1, Concat, [1]], # cat backbone P4\n",
    "    [-1, 3, C3, [512, False]], # 13\n",
    "\n",
    "    [-1, 1, Conv, [256, 1, 1]],\n",
    "    [-1, 1, nn.Upsample, [None, 2, \"nearest\"]],\n",
    "    [[-1, 4], 1, Concat, [1]], # cat backbone P3\n",
    "    [-1, 3, C3, [256, False]], # 17 (P3/8-small)\n",
    "\n",
    "    [-1, 1, Conv, [256, 3, 2]],\n",
    "    [[-1, 14], 1, Concat, [1]], # cat head P4\n",
    "    [-1, 3, C3, [512, False]], # 20 (P4/16-medium)\n",
    "\n",
    "    [-1, 1, Conv, [512, 3, 2]],\n",
    "    [[-1, 10], 1, Concat, [1]], # cat head P5\n",
    "    [-1, 3, C3, [1024, False]], # 23 (P5/32-large)\n",
    "\n",
    "    [[17, 20, 23], 1, Detect, [nc, anchors]], # Detect(P3, P4, P5)\n",
    "  ]\n"
   ]
  },
  {
   "cell_type": "code",
   "execution_count": 2,
   "metadata": {},
   "outputs": [
    {
     "data": {
      "text/plain": [
       "'c:\\\\Users\\\\asort\\\\OneDrive\\\\Documents\\\\AsorBackup\\\\Learn\\\\fracture-detection\\\\research'"
      ]
     },
     "execution_count": 2,
     "metadata": {},
     "output_type": "execute_result"
    }
   ],
   "source": [
    "%pwd"
   ]
  },
  {
   "cell_type": "code",
   "execution_count": 3,
   "metadata": {},
   "outputs": [],
   "source": [
    "os.chdir(\"../\")"
   ]
  },
  {
   "cell_type": "code",
   "execution_count": null,
   "metadata": {},
   "outputs": [],
   "source": [
    "%%time\n",
    "!python ./yolov5/train.py --img 416 --batch 16 --epochs 50 --data ./data/data.yaml --cfg ./yolov5/models/custom_yolov5s.yaml --weights 'YOLOv5s' --name yolov5s_results --cache"
   ]
  },
  {
   "cell_type": "code",
   "execution_count": null,
   "metadata": {},
   "outputs": [],
   "source": [
    "%load_ext tensorboard\n",
    "%tensorboard --logdir runs"
   ]
  }
 ],
 "metadata": {
  "kernelspec": {
   "display_name": "genai",
   "language": "python",
   "name": "python3"
  },
  "language_info": {
   "codemirror_mode": {
    "name": "ipython",
    "version": 3
   },
   "file_extension": ".py",
   "mimetype": "text/x-python",
   "name": "python",
   "nbconvert_exporter": "python",
   "pygments_lexer": "ipython3",
   "version": "3.10.14"
  }
 },
 "nbformat": 4,
 "nbformat_minor": 2
}
