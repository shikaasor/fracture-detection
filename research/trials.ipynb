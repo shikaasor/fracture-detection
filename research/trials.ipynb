{
 "cells": [
  {
   "cell_type": "code",
   "execution_count": 2,
   "metadata": {},
   "outputs": [],
   "source": [
    "import gdown\n",
    "import os\n",
    "import zipfile"
   ]
  },
  {
   "cell_type": "code",
   "execution_count": 2,
   "metadata": {},
   "outputs": [],
   "source": [
    "url = \"https://drive.google.com/file/d/149vtxI7-ZI7BfB-7ZpAfZeFM4UvNU04Y/view?usp=drive_link\""
   ]
  },
  {
   "cell_type": "code",
   "execution_count": 3,
   "metadata": {},
   "outputs": [
    {
     "data": {
      "text/plain": [
       "'149vtxI7-ZI7BfB-7ZpAfZeFM4UvNU04Y'"
      ]
     },
     "execution_count": 3,
     "metadata": {},
     "output_type": "execute_result"
    }
   ],
   "source": [
    "file_id = url.split(\"/\")[-2]\n",
    "file_id"
   ]
  },
  {
   "cell_type": "code",
   "execution_count": 3,
   "metadata": {},
   "outputs": [],
   "source": [
    "os.chdir(\"../\")"
   ]
  },
  {
   "cell_type": "code",
   "execution_count": null,
   "metadata": {},
   "outputs": [],
   "source": [
    "prefix = 'https://drive.google.com/uc?/export=download&id='\n",
    "gdown.download(prefix+file_id, \"data/fracture_images.zip\")"
   ]
  },
  {
   "cell_type": "code",
   "execution_count": 14,
   "metadata": {},
   "outputs": [
    {
     "name": "stderr",
     "output_type": "stream",
     "text": [
      "Cloning into 'yolov5'...\n"
     ]
    }
   ],
   "source": [
    "!git clone https://github.com/ultralytics/yolov5.git"
   ]
  },
  {
   "cell_type": "code",
   "execution_count": 7,
   "metadata": {},
   "outputs": [],
   "source": [
    "with zipfile.ZipFile('./data/fractures.zip', 'r') as zipref:\n",
    "    zipref.extractall('./data')"
   ]
  },
  {
   "cell_type": "code",
   "execution_count": 9,
   "metadata": {},
   "outputs": [
    {
     "data": {
      "text/plain": [
       "'7'"
      ]
     },
     "execution_count": 9,
     "metadata": {},
     "output_type": "execute_result"
    }
   ],
   "source": [
    "import yaml\n",
    "dataYAMLDir = './data/data.yaml'\n",
    "with open(dataYAMLDir, 'r') as stream:\n",
    "  num_classes = str(yaml.safe_load(stream)['nc'])\n",
    "\n",
    "num_classes"
   ]
  },
  {
   "cell_type": "code",
   "execution_count": 17,
   "metadata": {},
   "outputs": [
    {
     "name": "stdout",
     "output_type": "stream",
     "text": [
      "train: ./data/train/images\n",
      "val: ./data/valid/images\n",
      "test: ./data/test/images\n",
      "\n",
      "nc: 7\n",
      "names: ['elbow positive', 'fingers positive', 'forearm fracture', 'humerus fracture', 'humerus', 'shoulder fracture', 'wrist positive']\n"
     ]
    }
   ],
   "source": [
    "with open('./data/data.yaml', 'r') as file:\n",
    "    contents = file.read()\n",
    "    print(contents)"
   ]
  },
  {
   "cell_type": "code",
   "execution_count": 12,
   "metadata": {},
   "outputs": [],
   "source": [
    "from IPython.core.magic import register_line_cell_magic\n",
    "\n",
    "@register_line_cell_magic\n",
    "def writetemplate(line, cell):\n",
    "    with open(line, 'w') as f:\n",
    "        f.write(cell.format(**globals()))"
   ]
  },
  {
   "cell_type": "code",
   "execution_count": 16,
   "metadata": {},
   "outputs": [
    {
     "data": {
      "text/plain": [
       "'c:\\\\Users\\\\asort\\\\OneDrive\\\\Documents\\\\AsorBackup\\\\Learn\\\\fracture-detection'"
      ]
     },
     "execution_count": 16,
     "metadata": {},
     "output_type": "execute_result"
    }
   ],
   "source": [
    "%pwd"
   ]
  },
  {
   "cell_type": "code",
   "execution_count": 17,
   "metadata": {},
   "outputs": [],
   "source": [
    "%%writetemplate ./yolov5/models/custom_yolov5s.yaml\n",
    "\n",
    "nc: {num_classes} # number of classes\n",
    "depth_multiple: 0.33 # model depth multiple\n",
    "width_multiple: 0.50 # layer channel multiple\n",
    "anchors:\n",
    "  - [10, 13, 16, 30, 33, 23] # P3/8\n",
    "  - [30, 61, 62, 45, 59, 119] # P4/16\n",
    "  - [116, 90, 156, 198, 373, 326] # P5/32\n",
    "\n",
    "# YOLOv5 v6.0 backbone\n",
    "backbone:\n",
    "  # [from, number, module, args]\n",
    "  [\n",
    "    [-1, 1, Conv, [64, 6, 2, 2]], # 0-P1/2\n",
    "    [-1, 1, Conv, [128, 3, 2]], # 1-P2/4\n",
    "    [-1, 3, C3, [128]],\n",
    "    [-1, 1, Conv, [256, 3, 2]], # 3-P3/8\n",
    "    [-1, 6, C3, [256]],\n",
    "    [-1, 1, Conv, [512, 3, 2]], # 5-P4/16\n",
    "    [-1, 9, C3, [512]],\n",
    "    [-1, 1, Conv, [1024, 3, 2]], # 7-P5/32\n",
    "    [-1, 3, C3, [1024]],\n",
    "    [-1, 1, SPPF, [1024, 5]], # 9\n",
    "  ]\n",
    "\n",
    "# YOLOv5 v6.0 head\n",
    "head: [\n",
    "    [-1, 1, Conv, [512, 1, 1]],\n",
    "    [-1, 1, nn.Upsample, [None, 2, \"nearest\"]],\n",
    "    [[-1, 6], 1, Concat, [1]], # cat backbone P4\n",
    "    [-1, 3, C3, [512, False]], # 13\n",
    "\n",
    "    [-1, 1, Conv, [256, 1, 1]],\n",
    "    [-1, 1, nn.Upsample, [None, 2, \"nearest\"]],\n",
    "    [[-1, 4], 1, Concat, [1]], # cat backbone P3\n",
    "    [-1, 3, C3, [256, False]], # 17 (P3/8-small)\n",
    "\n",
    "    [-1, 1, Conv, [256, 3, 2]],\n",
    "    [[-1, 14], 1, Concat, [1]], # cat head P4\n",
    "    [-1, 3, C3, [512, False]], # 20 (P4/16-medium)\n",
    "\n",
    "    [-1, 1, Conv, [512, 3, 2]],\n",
    "    [[-1, 10], 1, Concat, [1]], # cat head P5\n",
    "    [-1, 3, C3, [1024, False]], # 23 (P5/32-large)\n",
    "\n",
    "    [[17, 20, 23], 1, Detect, [nc, anchors]], # Detect(P3, P4, P5)\n",
    "  ]\n"
   ]
  },
  {
   "cell_type": "code",
   "execution_count": 19,
   "metadata": {},
   "outputs": [
    {
     "data": {
      "text/plain": [
       "'c:\\\\Users\\\\asort\\\\OneDrive\\\\Documents\\\\AsorBackup\\\\Learn\\\\fracture-detection'"
      ]
     },
     "execution_count": 19,
     "metadata": {},
     "output_type": "execute_result"
    }
   ],
   "source": [
    "%pwd"
   ]
  },
  {
   "cell_type": "code",
   "execution_count": 15,
   "metadata": {},
   "outputs": [],
   "source": [
    "os.chdir(\"../\")"
   ]
  },
  {
   "cell_type": "code",
   "execution_count": 26,
   "metadata": {},
   "outputs": [
    {
     "name": "stdout",
     "output_type": "stream",
     "text": [
      "CPU times: total: 15.6 ms\n",
      "Wall time: 1min 21s\n"
     ]
    },
    {
     "name": "stderr",
     "output_type": "stream",
     "text": [
      "\u001b[34m\u001b[1mtrain: \u001b[0mweights='yolov5s.pt', cfg=./yolov5/models/custom_yolov5s.yaml, data=./data/data.yaml, hyp=yolov5\\data\\hyps\\hyp.scratch-low.yaml, epochs=50, batch_size=32, imgsz=416, rect=False, resume=False, nosave=False, noval=False, noautoanchor=False, noplots=False, evolve=None, evolve_population=yolov5\\data\\hyps, resume_evolve=None, bucket=, cache=ram, image_weights=False, device=, multi_scale=False, single_cls=False, optimizer=SGD, sync_bn=False, workers=8, project=yolov5\\runs\\train, name=yolov5s_results, exist_ok=False, quad=False, cos_lr=False, label_smoothing=0.0, patience=100, freeze=[0], save_period=-1, seed=0, local_rank=-1, entity=None, upload_dataset=False, bbox_interval=-1, artifact_alias=latest, ndjson_console=False, ndjson_file=False\n",
      "\u001b[34m\u001b[1mgithub: \u001b[0mup to date with https://github.com/ultralytics/yolov5 \n",
      "YOLOv5  v7.0-298-g21f8f94d Python-3.10.14 torch-2.2.2+cpu CPU\n",
      "\n",
      "\u001b[34m\u001b[1mhyperparameters: \u001b[0mlr0=0.01, lrf=0.01, momentum=0.937, weight_decay=0.0005, warmup_epochs=3.0, warmup_momentum=0.8, warmup_bias_lr=0.1, box=0.05, cls=0.5, cls_pw=1.0, obj=1.0, obj_pw=1.0, iou_t=0.2, anchor_t=4.0, fl_gamma=0.0, hsv_h=0.015, hsv_s=0.7, hsv_v=0.4, degrees=0.0, translate=0.1, scale=0.5, shear=0.0, perspective=0.0, flipud=0.0, fliplr=0.5, mosaic=1.0, mixup=0.0, copy_paste=0.0\n",
      "\u001b[34m\u001b[1mComet: \u001b[0mrun 'pip install comet_ml' to automatically track and visualize YOLOv5  runs in Comet\n",
      "\u001b[34m\u001b[1mTensorBoard: \u001b[0mStart with 'tensorboard --logdir yolov5\\runs\\train', view at http://localhost:6006/\n",
      "Downloading https://ultralytics.com/assets/Arial.ttf to C:\\Users\\asort\\AppData\\Roaming\\Ultralytics\\Arial.ttf...\n",
      "Traceback (most recent call last):\n",
      "  File \"c:\\Users\\asort\\anaconda3\\envs\\deeplearning\\lib\\urllib\\request.py\", line 1348, in do_open\n",
      "    h.request(req.get_method(), req.selector, req.data, headers,\n",
      "  File \"c:\\Users\\asort\\anaconda3\\envs\\deeplearning\\lib\\http\\client.py\", line 1283, in request\n",
      "    self._send_request(method, url, body, headers, encode_chunked)\n",
      "  File \"c:\\Users\\asort\\anaconda3\\envs\\deeplearning\\lib\\http\\client.py\", line 1329, in _send_request\n",
      "    self.endheaders(body, encode_chunked=encode_chunked)\n",
      "  File \"c:\\Users\\asort\\anaconda3\\envs\\deeplearning\\lib\\http\\client.py\", line 1278, in endheaders\n",
      "    self._send_output(message_body, encode_chunked=encode_chunked)\n",
      "  File \"c:\\Users\\asort\\anaconda3\\envs\\deeplearning\\lib\\http\\client.py\", line 1038, in _send_output\n",
      "    self.send(msg)\n",
      "  File \"c:\\Users\\asort\\anaconda3\\envs\\deeplearning\\lib\\http\\client.py\", line 976, in send\n",
      "    self.connect()\n",
      "  File \"c:\\Users\\asort\\anaconda3\\envs\\deeplearning\\lib\\http\\client.py\", line 1455, in connect\n",
      "    self.sock = self._context.wrap_socket(self.sock,\n",
      "  File \"c:\\Users\\asort\\anaconda3\\envs\\deeplearning\\lib\\ssl.py\", line 513, in wrap_socket\n",
      "    return self.sslsocket_class._create(\n",
      "  File \"c:\\Users\\asort\\anaconda3\\envs\\deeplearning\\lib\\ssl.py\", line 1104, in _create\n",
      "    self.do_handshake()\n",
      "  File \"c:\\Users\\asort\\anaconda3\\envs\\deeplearning\\lib\\ssl.py\", line 1375, in do_handshake\n",
      "    self._sslobj.do_handshake()\n",
      "TimeoutError: [WinError 10060] A connection attempt failed because the connected party did not properly respond after a period of time, or established connection failed because connected host has failed to respond\n",
      "\n",
      "During handling of the above exception, another exception occurred:\n",
      "\n",
      "Traceback (most recent call last):\n",
      "  File \"c:\\Users\\asort\\OneDrive\\Documents\\AsorBackup\\Learn\\fracture-detection\\yolov5\\train.py\", line 848, in <module>\n",
      "    main(opt)\n",
      "  File \"c:\\Users\\asort\\OneDrive\\Documents\\AsorBackup\\Learn\\fracture-detection\\yolov5\\train.py\", line 623, in main\n",
      "    train(opt.hyp, opt, device, callbacks)\n",
      "  File \"c:\\Users\\asort\\OneDrive\\Documents\\AsorBackup\\Learn\\fracture-detection\\yolov5\\train.py\", line 176, in train\n",
      "    data_dict = data_dict or check_dataset(data)  # check if None\n",
      "  File \"c:\\Users\\asort\\OneDrive\\Documents\\AsorBackup\\Learn\\fracture-detection\\yolov5\\utils\\general.py\", line 579, in check_dataset\n",
      "    check_font(\"Arial.ttf\" if is_ascii(data[\"names\"]) else \"Arial.Unicode.ttf\", progress=True)  # download fonts\n",
      "  File \"c:\\Users\\asort\\OneDrive\\Documents\\AsorBackup\\Learn\\fracture-detection\\yolov5\\utils\\general.py\", line 514, in check_font\n",
      "    torch.hub.download_url_to_file(url, str(file), progress=progress)\n",
      "  File \"c:\\Users\\asort\\anaconda3\\envs\\deeplearning\\lib\\site-packages\\torch\\hub.py\", line 620, in download_url_to_file\n",
      "    u = urlopen(req)\n",
      "  File \"c:\\Users\\asort\\anaconda3\\envs\\deeplearning\\lib\\urllib\\request.py\", line 216, in urlopen\n",
      "    return opener.open(url, data, timeout)\n",
      "  File \"c:\\Users\\asort\\anaconda3\\envs\\deeplearning\\lib\\urllib\\request.py\", line 519, in open\n",
      "    response = self._open(req, data)\n",
      "  File \"c:\\Users\\asort\\anaconda3\\envs\\deeplearning\\lib\\urllib\\request.py\", line 536, in _open\n",
      "    result = self._call_chain(self.handle_open, protocol, protocol +\n",
      "  File \"c:\\Users\\asort\\anaconda3\\envs\\deeplearning\\lib\\urllib\\request.py\", line 496, in _call_chain\n",
      "    result = func(*args)\n",
      "  File \"c:\\Users\\asort\\anaconda3\\envs\\deeplearning\\lib\\urllib\\request.py\", line 1391, in https_open\n",
      "    return self.do_open(http.client.HTTPSConnection, req,\n",
      "  File \"c:\\Users\\asort\\anaconda3\\envs\\deeplearning\\lib\\urllib\\request.py\", line 1351, in do_open\n",
      "    raise URLError(err)\n",
      "urllib.error.URLError: <urlopen error [WinError 10060] A connection attempt failed because the connected party did not properly respond after a period of time, or established connection failed because connected host has failed to respond>\n"
     ]
    }
   ],
   "source": [
    "%%time\n",
    "!python ./yolov5/train.py --img 416 --batch 32 --epochs 50 --data ./data/data.yaml --cfg ./yolov5/models/custom_yolov5s.yaml --weights 'yolov5s.pt' --name yolov5s_results --cache"
   ]
  },
  {
   "cell_type": "code",
   "execution_count": null,
   "metadata": {},
   "outputs": [],
   "source": [
    "%load_ext tensorboard\n",
    "%tensorboard --logdir runs"
   ]
  }
 ],
 "metadata": {
  "kernelspec": {
   "display_name": "genai",
   "language": "python",
   "name": "python3"
  },
  "language_info": {
   "codemirror_mode": {
    "name": "ipython",
    "version": 3
   },
   "file_extension": ".py",
   "mimetype": "text/x-python",
   "name": "python",
   "nbconvert_exporter": "python",
   "pygments_lexer": "ipython3",
   "version": "3.10.14"
  }
 },
 "nbformat": 4,
 "nbformat_minor": 2
}
